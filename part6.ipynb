{
  "nbformat": 4,
  "nbformat_minor": 0,
  "metadata": {
    "colab": {
      "provenance": [],
      "authorship_tag": "ABX9TyOlWGpkhrzEWtYP0KdIeR16",
      "include_colab_link": true
    },
    "kernelspec": {
      "name": "python3",
      "display_name": "Python 3"
    },
    "language_info": {
      "name": "python"
    }
  },
  "cells": [
    {
      "cell_type": "markdown",
      "metadata": {
        "id": "view-in-github",
        "colab_type": "text"
      },
      "source": [
        "<a href=\"https://colab.research.google.com/github/seprj/Python-script/blob/main/part6.ipynb\" target=\"_parent\"><img src=\"https://colab.research.google.com/assets/colab-badge.svg\" alt=\"Open In Colab\"/></a>"
      ]
    },
    {
      "cell_type": "code",
      "execution_count": null,
      "metadata": {
        "id": "KITBX-qo66NW"
      },
      "outputs": [],
      "source": []
    },
    {
      "cell_type": "code",
      "source": [
        "class Person:\n",
        "    def __init__(self, fname, lname, age):\n",
        "        self.firstname = fname\n",
        "        self.lastname = lname\n",
        "        self.age = age\n",
        "\n",
        "    def print_details(self):\n",
        "        print(f\"Your Name is : {self.firstname} {self.lastname}, You are: {self.age} years old\")\n",
        "\n",
        "class Student(Person):\n",
        "    def __init__(self, fname, lname, age, gpa):\n",
        "        super().__init__(fname, lname, age)\n",
        "        self.gpa = gpa\n",
        "\n",
        "    def print_student_details(self):\n",
        "        super().print_details()\n",
        "        print(f\"Your GPA is: {self.gpa}\")\n",
        "\n",
        "\n",
        "\n",
        "student1 = Student(\"Sep\", \"Rj\", 31, 4.2)\n",
        "student1.print_student_details()"
      ],
      "metadata": {
        "id": "BPUt8IYEwMR_",
        "outputId": "a1f0a7e0-49b6-451c-9932-d9af180336a9",
        "colab": {
          "base_uri": "https://localhost:8080/"
        }
      },
      "execution_count": null,
      "outputs": [
        {
          "output_type": "stream",
          "name": "stdout",
          "text": [
            "Your Name is : Sep Rj, You are: 31 years old\n",
            "Your GPA is: 4.2\n"
          ]
        }
      ]
    }
  ]
}