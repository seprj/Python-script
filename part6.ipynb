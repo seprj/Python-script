{
  "nbformat": 4,
  "nbformat_minor": 0,
  "metadata": {
    "colab": {
      "provenance": [],
      "name": "part6.ipynb",
      "authorship_tag": "ABX9TyP4ucTAM6o1PpubgtfxYeXV",
      "include_colab_link": true
    },
    "kernelspec": {
      "name": "python3",
      "display_name": "Python 3"
    },
    "language_info": {
      "name": "python"
    }
  },
  "cells": [
    {
      "cell_type": "markdown",
      "metadata": {
        "id": "view-in-github",
        "colab_type": "text"
      },
      "source": [
        "<a href=\"https://colab.research.google.com/github/seprj/Python-script/blob/main/part6.ipynb\" target=\"_parent\"><img src=\"https://colab.research.google.com/assets/colab-badge.svg\" alt=\"Open In Colab\"/></a>"
      ]
    },
    {
      "cell_type": "code",
      "source": [
        "class Person:\n",
        "    def __init__(self, fname, lname, age):\n",
        "        self.firstname = fname\n",
        "        self.lastname = lname\n",
        "        self.age = age\n",
        "\n",
        "    def print_details(self):\n",
        "        print(f\"Your Name is : {self.firstname} {self.lastname}, You are: {self.age} years old\")\n",
        "\n",
        "class Student(Person):\n",
        "    def __init__(self, fname, lname, age, gpa):\n",
        "        super().__init__(fname, lname, age)\n",
        "        self.gpa = gpa\n",
        "\n",
        "    def print_student_details(self):\n",
        "        super().print_details()\n",
        "        print(f\"Your GPA is: {self.gpa}\")\n",
        "\n",
        "\n",
        "\n",
        "student1 = Student(\"Sep\", \"Rj\", 31, 4.2)\n",
        "student1.print_student_details()"
      ],
      "metadata": {
        "id": "BPUt8IYEwMR_",
        "outputId": "a1f0a7e0-49b6-451c-9932-d9af180336a9",
        "colab": {
          "base_uri": "https://localhost:8080/"
        }
      },
      "execution_count": null,
      "outputs": [
        {
          "output_type": "stream",
          "name": "stdout",
          "text": [
            "Your Name is : Sep Rj, You are: 31 years old\n",
            "Your GPA is: 4.2\n"
          ]
        }
      ]
    },
    {
      "cell_type": "code",
      "source": [
        "class veicle:\n",
        "  def __init__ (self, model, brand, speed=0):\n",
        "    self.model = model\n",
        "    self.brand = brand\n",
        "    self.speed = speed\n",
        "\n",
        "  def accelerate (self, increment):\n",
        "    self.speed += increment\n",
        "    print(f\"The veicle is now moving at {self.speed} km/h.\")\n",
        "    self.speed =0\n",
        "\n",
        "  def brake (self, decrement):\n",
        "    self.speed -= decrement\n",
        "    print(f\"The veicle has slow down to {self.speed} km/h.\")\n",
        "\n",
        "y= veicle (\"X33\", \"BMW\", speed=0)\n",
        "y.accelerate(increment = 1000)\n",
        "y.brake(decrement=1000)"
      ],
      "metadata": {
        "colab": {
          "base_uri": "https://localhost:8080/"
        },
        "id": "rp0S__Nd_4zi",
        "outputId": "09c8fd26-010d-4460-b421-dd3456f3395b"
      },
      "execution_count": 60,
      "outputs": [
        {
          "output_type": "stream",
          "name": "stdout",
          "text": [
            "The veicle is now moving at 1000 km/h.\n",
            "The veicle has slow down to -1000 km/h.\n"
          ]
        }
      ]
    },
    {
      "cell_type": "code",
      "source": [
        "class veicle:\n",
        "  def __init__ (self, model, brand, speed=0):\n",
        "    self.model = model\n",
        "    self.brand = brand\n",
        "    self.speed = speed\n",
        "\n",
        "  def accelerate (self, increment):\n",
        "    self.speed += increment\n",
        "    print(f\"The veicle is now moving at {self.speed} km/h.\")\n",
        "\n",
        "  def brake (self, decrement):\n",
        "    self.speed -= decrement\n",
        "    print(f\"The veicle has slow down to {self.speed} km/h.\")\n",
        "\n",
        "class car(veicle):\n",
        "   def __init__(self, model, brand, speed=0, num_doors=5):\n",
        "    super(). __init__(model, brand, speed)\n",
        "    self.num_doors = num_doors\n",
        "\n",
        "\n",
        "   def open_door(self, door_number):\n",
        "     print(f\"The door {door_number} is open.\")\n",
        "     self.num_doors -= 1\n",
        "\n",
        "\n",
        "x = Car(\"Toyota\", \"Corolla\", 60, 4)\n",
        "x.open_door(1)\n"
      ],
      "metadata": {
        "colab": {
          "base_uri": "https://localhost:8080/"
        },
        "id": "aK-66gd8HiTy",
        "outputId": "cc32384e-d584-49d1-ce01-f4ed675390f7"
      },
      "execution_count": 52,
      "outputs": [
        {
          "output_type": "stream",
          "name": "stdout",
          "text": [
            "The door 1 is open.\n"
          ]
        }
      ]
    },
    {
      "cell_type": "code",
      "source": [
        "class bird:\n",
        "  def __init__ (self, species, speed =0):\n",
        "    self.species =species\n",
        "    self.speed = speed\n",
        "\n",
        "  def fly (self ,increment ):\n",
        "    self.speed += increment\n",
        "    print(f\"The bird is flying with speed of {self.speed} km/h.\")\n",
        "    self.speed=0\n",
        "\n",
        "  def eat(self,decrement ):\n",
        "    self.speed -= decrement\n",
        "    print(f\"The bird is eating seeds with speed of {self.speed}n/s.\")\n",
        "    self.speed=0\n",
        "\n",
        "x = bird (\"Niagara\",50)\n",
        "x.eat(20)\n",
        "x.fly(2000)\n",
        "\n",
        "\n"
      ],
      "metadata": {
        "colab": {
          "base_uri": "https://localhost:8080/"
        },
        "id": "0QOmULzVWB4-",
        "outputId": "bd6c5c92-d5da-4ad5-f665-b374673c7677"
      },
      "execution_count": 64,
      "outputs": [
        {
          "output_type": "stream",
          "name": "stdout",
          "text": [
            "The bird is eating seeds with speed of 30n/s.\n",
            "The bird is flying with speed of 2000 km/h.\n"
          ]
        }
      ]
    },
    {
      "cell_type": "code",
      "source": [
        "class bird:\n",
        "  def __init__ (self, species, speed =0):\n",
        "    self.species =species\n",
        "    self.speed = speed\n",
        "\n",
        "  def fly (self ,increment ):\n",
        "    self.speed += increment\n",
        "    print(f\"The bird is flying with speed of {self.speed} km/h.\")\n",
        "    self.speed=0\n",
        "\n",
        "  def eat(self,decrement ):\n",
        "    self.speed -= decrement\n",
        "    print(f\"The bird is eating seeds with speed of {self.speed} n/s.\")\n",
        "\n",
        "class parrot(bird):\n",
        "  def __init__ (self, species, speed, can_talk):\n",
        "    super().__init__(species, speed)\n",
        "    self.can_talk = can_talk\n",
        "\n",
        "  def mimic(self, sound):\n",
        "    if self.can_talk:\n",
        "      print(f\"The parrot mimics is like : {sound}\")\n",
        "    else:\n",
        "      print(\"The parrot cannot mimic sounds.\")\n",
        "\n",
        "  def flying(self):\n",
        "     print(f\"The parrot is flying with speed pf {self.speed} km/h.\")\n",
        "\n",
        "p = parrot (\"Amazon\", 100, True)\n",
        "p.mimic(\"hmmmn\")\n",
        "p.flying()\n",
        "p.eat(50)\n",
        "\n",
        "\n",
        "\n",
        "\n"
      ],
      "metadata": {
        "colab": {
          "base_uri": "https://localhost:8080/"
        },
        "id": "aUf1XSuhs1U1",
        "outputId": "8b72f9a3-9895-49cb-ed58-8ddaa4aec8bf"
      },
      "execution_count": 77,
      "outputs": [
        {
          "output_type": "stream",
          "name": "stdout",
          "text": [
            "The parrot mimics is like : hmmmn\n",
            "The parrot is flying with speed pf 100 km/h.\n",
            "The bird is eating seeds with speed of 50n/s.\n"
          ]
        }
      ]
    }
  ]
}