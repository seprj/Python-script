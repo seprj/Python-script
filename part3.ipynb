{
  "nbformat": 4,
  "nbformat_minor": 0,
  "metadata": {
    "colab": {
      "provenance": [],
      "authorship_tag": "ABX9TyN6Z3hsKAWAvlxijshqyYPr",
      "include_colab_link": true
    },
    "kernelspec": {
      "name": "python3",
      "display_name": "Python 3"
    },
    "language_info": {
      "name": "python"
    }
  },
  "cells": [
    {
      "cell_type": "markdown",
      "metadata": {
        "id": "view-in-github",
        "colab_type": "text"
      },
      "source": [
        "<a href=\"https://colab.research.google.com/github/seprj/Python-script/blob/main/part3.ipynb\" target=\"_parent\"><img src=\"https://colab.research.google.com/assets/colab-badge.svg\" alt=\"Open In Colab\"/></a>"
      ]
    },
    {
      "cell_type": "code",
      "execution_count": 13,
      "metadata": {
        "colab": {
          "base_uri": "https://localhost:8080/"
        },
        "id": "6Y95VZXK88yF",
        "outputId": "c7e2020e-27d4-412a-a1c9-22b8cbb0ce6d"
      },
      "outputs": [
        {
          "output_type": "stream",
          "name": "stdout",
          "text": [
            "A hello\n",
            "plus a few more line\n",
            "like this\n",
            "***********\n",
            "simple hello and greeting\n",
            "***********\n",
            "another simple hello\n",
            "simple hello and greeting\n",
            "***********\n"
          ]
        }
      ],
      "source": [
        "def say_more (main_text, extra_text =[]):\n",
        "  extra_text.insert(0, main_text)\n",
        "  for line in extra_text:\n",
        "      print(line)\n",
        "  print('***********')\n",
        "\n",
        "say_more ('A hello', ['plus a few more line', 'like this'])\n",
        "say_more ('simple hello and greeting')\n",
        "say_more ('another simple hello')"
      ]
    },
    {
      "cell_type": "code",
      "source": [
        "def say_more (main_text, extra_text = None):\n",
        "\n",
        "  if extra_text is None:\n",
        "    extra_text =[]\n",
        "\n",
        "  extra_text.insert(0, main_text)\n",
        "  for line in extra_text:\n",
        "      print(line)\n",
        "  print('***********')\n",
        "\n",
        "say_more ('A hello', ['plus a few more line', 'like this'])\n",
        "say_more ('simple hello and greeting')\n",
        "say_more ('another simple hello')"
      ],
      "metadata": {
        "colab": {
          "base_uri": "https://localhost:8080/"
        },
        "id": "IpdQC68z_6hP",
        "outputId": "161862b9-f288-450a-84ab-d937fe013123"
      },
      "execution_count": 15,
      "outputs": [
        {
          "output_type": "stream",
          "name": "stdout",
          "text": [
            "A hello\n",
            "plus a few more line\n",
            "like this\n",
            "***********\n",
            "simple hello and greeting\n",
            "***********\n",
            "another simple hello\n",
            "***********\n"
          ]
        }
      ]
    }
  ]
}