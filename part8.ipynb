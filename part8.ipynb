{
  "nbformat": 4,
  "nbformat_minor": 0,
  "metadata": {
    "colab": {
      "provenance": [],
      "authorship_tag": "ABX9TyMKR3ZqloqWwaKSSJX1yfTr",
      "include_colab_link": true
    },
    "kernelspec": {
      "name": "python3",
      "display_name": "Python 3"
    },
    "language_info": {
      "name": "python"
    }
  },
  "cells": [
    {
      "cell_type": "markdown",
      "metadata": {
        "id": "view-in-github",
        "colab_type": "text"
      },
      "source": [
        "<a href=\"https://colab.research.google.com/github/seprj/Python-script/blob/main/part8.ipynb\" target=\"_parent\"><img src=\"https://colab.research.google.com/assets/colab-badge.svg\" alt=\"Open In Colab\"/></a>"
      ]
    },
    {
      "cell_type": "code",
      "execution_count": 6,
      "metadata": {
        "colab": {
          "base_uri": "https://localhost:8080/"
        },
        "id": "Sk4UYu0iyRmC",
        "outputId": "fe0bb672-b791-4ae8-e7d7-517e9907fc9b"
      },
      "outputs": [
        {
          "output_type": "stream",
          "name": "stdout",
          "text": [
            "1 Hello sepid jon\n",
            "2 Hello sepid jon\n",
            "3 Hello sepid jon\n",
            "4 Hello sepid jon\n",
            "5 Hello sepid jon\n"
          ]
        }
      ],
      "source": [
        "count = 0\n",
        "while count < 5:\n",
        "  print(count+1, 'Hello sepid jon')\n",
        "  count = count+1"
      ]
    },
    {
      "cell_type": "code",
      "source": [
        "n = int (input('inter a number: '))\n",
        "while n > 0:\n",
        "  r = n % 10\n",
        "  n= n //10\n",
        "  print (r)"
      ],
      "metadata": {
        "colab": {
          "base_uri": "https://localhost:8080/"
        },
        "id": "s-1Xmal9zsuY",
        "outputId": "f2072b87-ab54-4973-877f-8ac15522e116"
      },
      "execution_count": 4,
      "outputs": [
        {
          "output_type": "stream",
          "name": "stdout",
          "text": [
            "inter a number: 62\n",
            "2\n",
            "6\n"
          ]
        }
      ]
    },
    {
      "cell_type": "code",
      "source": [
        "n = int(input(\"Please enter a number for multiplication table: \"))\n",
        "counter =1\n",
        "while counter <= 10:\n",
        "  print(n,\"x\" , counter,\"=\",n*counter)\n",
        "  counter = counter+1\n"
      ],
      "metadata": {
        "colab": {
          "base_uri": "https://localhost:8080/"
        },
        "id": "53zpmUv90uMn",
        "outputId": "793df827-a286-46b5-bb84-4e39fe5dfbbd"
      },
      "execution_count": 8,
      "outputs": [
        {
          "output_type": "stream",
          "name": "stdout",
          "text": [
            "Please enter a number for multiplication table: 8\n",
            "8 x 1 = 8\n",
            "8 x 2 = 16\n",
            "8 x 3 = 24\n",
            "8 x 4 = 32\n",
            "8 x 5 = 40\n",
            "8 x 6 = 48\n",
            "8 x 7 = 56\n",
            "8 x 8 = 64\n",
            "8 x 9 = 72\n",
            "8 x 10 = 80\n"
          ]
        }
      ]
    },
    {
      "cell_type": "code",
      "source": [
        "n = int(input(\"Please enter a number: \"))\n",
        "counter = 0\n",
        "while n > 10:\n",
        "  n= n // 10\n",
        "  counter +=1\n",
        "\n",
        "print('Number of digit is ',counter)"
      ],
      "metadata": {
        "colab": {
          "base_uri": "https://localhost:8080/"
        },
        "id": "VtL6y8TM1uNB",
        "outputId": "53772d86-ce2a-4bf8-e64b-79a359414929"
      },
      "execution_count": 11,
      "outputs": [
        {
          "output_type": "stream",
          "name": "stdout",
          "text": [
            "Please enter a number: 36\n",
            "Number of digit is  1\n"
          ]
        }
      ]
    },
    {
      "cell_type": "code",
      "source": [
        "num_of_numbers = int(input(\"Enter number of numbers: \"))\n",
        "sum = 0\n",
        "count = 0\n",
        "while (count < num_of_numbers):\n",
        "  n  = int(input(\"Enter a number: \"))\n",
        "  sum = sum +n\n",
        "  count = count +1\n",
        "print(f'Sum of these {num_of_numbers} numbers is : ',sum)\n"
      ],
      "metadata": {
        "colab": {
          "base_uri": "https://localhost:8080/"
        },
        "id": "_cVT2Tku3IuD",
        "outputId": "91abbc96-d4c9-4501-8166-97b754715c08"
      },
      "execution_count": 16,
      "outputs": [
        {
          "output_type": "stream",
          "name": "stdout",
          "text": [
            "Enter number of numbers: 3\n",
            "Enter a number: 12\n",
            "Enter a number: 52\n",
            "Enter a number: 96\n",
            "Sum of these 3 numbers is :  160\n"
          ]
        }
      ]
    },
    {
      "cell_type": "code",
      "source": [
        "import random\n",
        "n = random.randint(18,50)\n",
        "\n",
        "guess = 0\n",
        "while guess != 0:\n",
        "  guess = int(input('guess a number: '))\n",
        "  if guess < n:\n",
        "     print('its smaller')\n",
        "  elif guess > n:\n",
        "     print('its lorger')\n",
        "  else :\n",
        "     print('correct guess')"
      ],
      "metadata": {
        "id": "no7W9kvGBXsX"
      },
      "execution_count": 24,
      "outputs": []
    },
    {
      "cell_type": "code",
      "source": [
        "count = 1\n",
        "while count <= 10:\n",
        "  print(count)\n",
        "  count = count +1\n",
        "  if count > 5:\n",
        "    break\n",
        "else:\n",
        "  print(\"print all 10 numbers\")\n",
        "print(\"end of program\")"
      ],
      "metadata": {
        "colab": {
          "base_uri": "https://localhost:8080/"
        },
        "id": "16zjpt4QJjn-",
        "outputId": "e1e44d93-a918-406f-f385-1219ab7adb96"
      },
      "execution_count": 32,
      "outputs": [
        {
          "output_type": "stream",
          "name": "stdout",
          "text": [
            "1\n",
            "2\n",
            "3\n",
            "4\n",
            "5\n",
            "end of program\n"
          ]
        }
      ]
    },
    {
      "cell_type": "code",
      "source": [
        "for i in range (10,2,-3):\n",
        "\n",
        "  print(i)\n"
      ],
      "metadata": {
        "colab": {
          "base_uri": "https://localhost:8080/"
        },
        "id": "Zq4iCx1mKuwg",
        "outputId": "e19c9719-909f-4e5f-cccb-626135f0730a"
      },
      "execution_count": 35,
      "outputs": [
        {
          "output_type": "stream",
          "name": "stdout",
          "text": [
            "10\n",
            "7\n",
            "4\n"
          ]
        }
      ]
    },
    {
      "cell_type": "code",
      "source": [
        "msg = str(input('Enter your name: '))\n",
        "\n",
        "for i in msg:\n",
        "  print(i)\n",
        "# print('this is spell of your name')"
      ],
      "metadata": {
        "colab": {
          "base_uri": "https://localhost:8080/"
        },
        "id": "kUF_r6OMK8in",
        "outputId": "ff5a17a9-0676-4c87-ee64-5132dcc0a24f"
      },
      "execution_count": 41,
      "outputs": [
        {
          "output_type": "stream",
          "name": "stdout",
          "text": [
            "Enter your name: sepide\n",
            "s\n",
            "e\n",
            "p\n",
            "i\n",
            "d\n",
            "e\n"
          ]
        }
      ]
    },
    {
      "cell_type": "code",
      "source": [
        "for i in range(5,20):\n",
        "  print(i)\n"
      ],
      "metadata": {
        "colab": {
          "base_uri": "https://localhost:8080/"
        },
        "id": "HlPawEisLynQ",
        "outputId": "e4d40797-b2cb-4ce7-ded3-fc649f5504f9"
      },
      "execution_count": 42,
      "outputs": [
        {
          "output_type": "stream",
          "name": "stdout",
          "text": [
            "5\n",
            "6\n",
            "7\n",
            "8\n",
            "9\n",
            "10\n",
            "11\n",
            "12\n",
            "13\n",
            "14\n",
            "15\n",
            "16\n",
            "17\n",
            "18\n",
            "19\n"
          ]
        }
      ]
    }
  ]
}