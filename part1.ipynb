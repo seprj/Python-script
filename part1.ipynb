{
  "nbformat": 4,
  "nbformat_minor": 0,
  "metadata": {
    "colab": {
      "provenance": [],
      "toc_visible": true,
      "gpuType": "T4",
      "authorship_tag": "ABX9TyNdOLnFOOFfjaaKUP4agThX",
      "include_colab_link": true
    },
    "kernelspec": {
      "name": "python3",
      "display_name": "Python 3"
    },
    "language_info": {
      "name": "python"
    },
    "accelerator": "GPU"
  },
  "cells": [
    {
      "cell_type": "markdown",
      "metadata": {
        "id": "view-in-github",
        "colab_type": "text"
      },
      "source": [
        "<a href=\"https://colab.research.google.com/github/seprj/Python-script/blob/main/part1.ipynb\" target=\"_parent\"><img src=\"https://colab.research.google.com/assets/colab-badge.svg\" alt=\"Open In Colab\"/></a>"
      ]
    },
    {
      "cell_type": "code",
      "source": [
        "def say_hello_three_times():\n",
        "  for _ in range(2):\n",
        "    print('Hello beautifu people, its very hot today!')\n",
        "\n",
        "say_hello_three_times()\n"
      ],
      "metadata": {
        "colab": {
          "base_uri": "https://localhost:8080/"
        },
        "id": "klx1j0wViSw3",
        "outputId": "98865d4a-2cfe-46d5-bab0-a803d1089226"
      },
      "execution_count": 24,
      "outputs": [
        {
          "output_type": "stream",
          "name": "stdout",
          "text": [
            "Hello beautifu people, its very hot today!\n",
            "Hello beautifu people, its very hot today!\n"
          ]
        }
      ]
    },
    {
      "cell_type": "code",
      "execution_count": 23,
      "metadata": {
        "colab": {
          "base_uri": "https://localhost:8080/"
        },
        "id": "gGGdNGN4hDyQ",
        "outputId": "8b47eabd-3439-4fc1-adc3-dc5e3be1b478"
      },
      "outputs": [
        {
          "output_type": "stream",
          "name": "stdout",
          "text": [
            "saying hello (n) times\n",
            "Hello beautiful people, its very hot today!\n",
            "\n",
            "Hello beautiful people, its very hot today!\n",
            "\n",
            "saying hello (n) times\n"
          ]
        }
      ],
      "source": [
        "def say_hello_multiple_times(n):\n",
        "  print(f'saying hello {n} times')\n",
        "  for _ in range(n):\n",
        "      print('Hello beautiful people, its very hot today!')\n",
        "      print()\n",
        "\n",
        "say_hello_multiple_times(2)\n",
        "say_hello_multiple_times(0)"
      ]
    }
  ]
}