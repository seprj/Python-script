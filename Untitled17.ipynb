{
  "nbformat": 4,
  "nbformat_minor": 0,
  "metadata": {
    "colab": {
      "provenance": [],
      "authorship_tag": "ABX9TyOIkbllWUjhZWX5Cl2bXYHw",
      "include_colab_link": true
    },
    "kernelspec": {
      "name": "python3",
      "display_name": "Python 3"
    },
    "language_info": {
      "name": "python"
    }
  },
  "cells": [
    {
      "cell_type": "markdown",
      "metadata": {
        "id": "view-in-github",
        "colab_type": "text"
      },
      "source": [
        "<a href=\"https://colab.research.google.com/github/seprj/Python-script/blob/main/Untitled17.ipynb\" target=\"_parent\"><img src=\"https://colab.research.google.com/assets/colab-badge.svg\" alt=\"Open In Colab\"/></a>"
      ]
    },
    {
      "cell_type": "code",
      "execution_count": 2,
      "metadata": {
        "colab": {
          "base_uri": "https://localhost:8080/"
        },
        "id": "nfo6BfiJW2ln",
        "outputId": "4fae97aa-a4f7-4da0-a194-186d92287059"
      },
      "outputs": [
        {
          "output_type": "stream",
          "name": "stdout",
          "text": [
            "enter Sep's age: 32\n",
            "enter John's age: 34\n",
            "enter smith's age: 35\n",
            "smith is elder\n"
          ]
        }
      ],
      "source": [
        "sep = float (input(\"enter Sep's age: \"))\n",
        "john = float (input(\"enter John's age: \"))\n",
        "smith = float (input(\"enter smith's age: \"))\n",
        "\n",
        "if sep > john and sep > smith :\n",
        "  print(\"sep is elder than other\")\n",
        "else:\n",
        "  if john > smith:\n",
        "    print(\"john is elder\")\n",
        "  else:\n",
        "    print(\"smith is elder\")\n",
        "\n",
        "\n"
      ]
    },
    {
      "cell_type": "code",
      "source": [
        "sep = float (input(\"enter Sep's age: \"))\n",
        "john = float (input(\"enter John's age: \"))\n",
        "smith = float (input(\"enter smith's age: \"))\n",
        "\n",
        "if sep > john and sep > smith :\n",
        "  print(\"sep is elder than other\")\n",
        "elif john > smith:\n",
        "    print(\"john is elder\")\n",
        "else:\n",
        "    print(\"smith is elder\")\n"
      ],
      "metadata": {
        "colab": {
          "base_uri": "https://localhost:8080/"
        },
        "id": "qWrnOM6NcMF2",
        "outputId": "3965f4a7-aad7-4e28-f3af-2c5666ebc439"
      },
      "execution_count": 4,
      "outputs": [
        {
          "output_type": "stream",
          "name": "stdout",
          "text": [
            "enter Sep's age: 56\n",
            "enter John's age: 32\n",
            "enter smith's age: 16\n",
            "sep is elder than other\n"
          ]
        }
      ]
    },
    {
      "cell_type": "code",
      "source": [
        "day = int (input('enter day number: '))\n",
        "\n",
        "if day== 1 :\n",
        "  print('Today is sunday')\n",
        "elif day ==2 :\n",
        "  print('Today is Monday')\n",
        "elif day ==3 :\n",
        "  print('Today is Tuesday')\n",
        "elif day ==4 :\n",
        "  print('Today is wensday')\n",
        "elif day ==5 :\n",
        "  print('Today is Thursday')\n",
        "elif day ==6 :\n",
        "  print('Today is friday')\n",
        "elif day ==7 :\n",
        "  print('Today is satarday')\n",
        "else:\n",
        "  print(\"invalid day\")"
      ],
      "metadata": {
        "colab": {
          "base_uri": "https://localhost:8080/"
        },
        "id": "_0qWg9CucjLb",
        "outputId": "a10f9a86-c2a2-4f0c-99ef-f894185a67a8"
      },
      "execution_count": 7,
      "outputs": [
        {
          "output_type": "stream",
          "name": "stdout",
          "text": [
            "enter day number: 9\n",
            "invalid day\n"
          ]
        }
      ]
    },
    {
      "cell_type": "code",
      "source": [
        "year = int (input(\"Enter year: \"))\n",
        "\n",
        "if year % 100 ==0:\n",
        "  if year % 4 ==0:\n",
        "    print(\"This year is leap year\")\n",
        "  else:\n",
        "    print(\"This year is not leap year\")\n",
        "elif year % 4 ==0:\n",
        "   print(\"This year is leap year\")\n",
        "else:\n",
        "   print(\"This year is not leap year\")"
      ],
      "metadata": {
        "colab": {
          "base_uri": "https://localhost:8080/"
        },
        "id": "S73EMtVAu7tp",
        "outputId": "275e9666-d164-4c2b-cdfe-ae5df088a54d"
      },
      "execution_count": 11,
      "outputs": [
        {
          "output_type": "stream",
          "name": "stdout",
          "text": [
            "Enter year: 1403\n",
            "This year is not leap year\n"
          ]
        }
      ]
    },
    {
      "cell_type": "code",
      "source": [
        "a = 12\n",
        "format(a,'b')\n",
        "bin (a)\n",
        "a.bit_length()\n"
      ],
      "metadata": {
        "colab": {
          "base_uri": "https://localhost:8080/"
        },
        "id": "5JZRdyhMwdvB",
        "outputId": "d3828fd8-1b15-4553-e5af-703b482b1fa4"
      },
      "execution_count": 15,
      "outputs": [
        {
          "output_type": "execute_result",
          "data": {
            "text/plain": [
              "4"
            ]
          },
          "metadata": {},
          "execution_count": 15
        }
      ]
    }
  ]
}