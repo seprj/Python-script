{
  "nbformat": 4,
  "nbformat_minor": 0,
  "metadata": {
    "colab": {
      "provenance": [],
      "authorship_tag": "ABX9TyPuAQRZZDPK7DzuXTme6S3Y",
      "include_colab_link": true
    },
    "kernelspec": {
      "name": "python3",
      "display_name": "Python 3"
    },
    "language_info": {
      "name": "python"
    }
  },
  "cells": [
    {
      "cell_type": "markdown",
      "metadata": {
        "id": "view-in-github",
        "colab_type": "text"
      },
      "source": [
        "<a href=\"https://colab.research.google.com/github/seprj/Python-script/blob/main/part4.ipynb\" target=\"_parent\"><img src=\"https://colab.research.google.com/assets/colab-badge.svg\" alt=\"Open In Colab\"/></a>"
      ]
    },
    {
      "cell_type": "code",
      "execution_count": 11,
      "metadata": {
        "colab": {
          "base_uri": "https://localhost:8080/"
        },
        "id": "Uz2j7vhErOBX",
        "outputId": "6e9f03ff-3983-4e27-b695-4b714d2e7163"
      },
      "outputs": [
        {
          "output_type": "stream",
          "name": "stdout",
          "text": [
            "7 2 10 \n",
            "Sum of three numbers: 19\n",
            "45 12 8 \n",
            "Sum of three numbers: 65\n"
          ]
        }
      ],
      "source": [
        "def sum_m(a,b,c):\n",
        "  return a+b+c\n",
        "\n",
        "\n",
        "for a,b,c in [\n",
        "    [7,2,10],\n",
        "    [45,12,8]\n",
        "]:\n",
        "  print(a,b,c, '\\nSum of three numbers:', sum_m(a,b,c))"
      ]
    },
    {
      "cell_type": "code",
      "source": [
        "def sum_m(*numbers):\n",
        "    print(\"Type of the 'numbers' argument:\", type(numbers))\n",
        "    print(\"Value of the 'numbers' argument:\", numbers, '\\n')\n",
        "    result = 0  # Initialize result to 0\n",
        "    for number in numbers:\n",
        "        result += number\n",
        "    return result  # Moved outside the loop\n",
        "\n",
        "# Example usage\n",
        "for a, b, c, d in [\n",
        "    [7, 2, 10, 15],\n",
        "    [8, 6, 15, 2]\n",
        "]:\n",
        "    print(a, b, c, d, 'Sum of four numbers:', sum_m(a, b, c, d), '\\n', '------------')\n"
      ],
      "metadata": {
        "colab": {
          "base_uri": "https://localhost:8080/"
        },
        "id": "JrTP3Q9rt0Uk",
        "outputId": "01b56660-be14-4791-e0bf-50da9542f761"
      },
      "execution_count": 35,
      "outputs": [
        {
          "output_type": "stream",
          "name": "stdout",
          "text": [
            "Type of the 'numbers' argument: <class 'tuple'>\n",
            "Value of the 'numbers' argument: (7, 2, 10, 15) \n",
            "\n",
            "7 2 10 15 Sum of four numbers: 34 \n",
            " ------------\n",
            "Type of the 'numbers' argument: <class 'tuple'>\n",
            "Value of the 'numbers' argument: (8, 6, 15, 2) \n",
            "\n",
            "8 6 15 2 Sum of four numbers: 31 \n",
            " ------------\n"
          ]
        }
      ]
    },
    {
      "cell_type": "code",
      "source": [
        "def sum_m(*numbers):\n",
        "  print(\"Type of the 'numbers' argument:\", type (numbers))\n",
        "  print(\"Value of the 'numbers' argument\", numbers, '\\n')\n",
        "  result = 0\n",
        "  for number in numbers:\n",
        "    result += number\n",
        "  return result\n",
        "print('(empty)', 'sum: ', sum_m(), '\\n','--------')\n",
        "print(1, 2, 'sum:', sum_m (1, 2), '\\n','---------')\n",
        "print(1, 2, 7, 10, 'sum:' ,sum_m (1, 2, 7, 10), '\\n', '----------')"
      ],
      "metadata": {
        "colab": {
          "base_uri": "https://localhost:8080/"
        },
        "id": "EgzC0nPm1J6p",
        "outputId": "10c30012-da80-4bc2-f2d5-2f82dabc25d5"
      },
      "execution_count": 39,
      "outputs": [
        {
          "output_type": "stream",
          "name": "stdout",
          "text": [
            "Type of the 'numbers' argument: <class 'tuple'>\n",
            "Value of the 'numbers' argument () \n",
            "\n",
            "(empty) sum:  0 \n",
            " --------\n",
            "Type of the 'numbers' argument: <class 'tuple'>\n",
            "Value of the 'numbers' argument (1, 2) \n",
            "\n",
            "1 2 sum: 3 \n",
            " ---------\n",
            "Type of the 'numbers' argument: <class 'tuple'>\n",
            "Value of the 'numbers' argument (1, 2, 7, 10) \n",
            "\n",
            "1 2 7 10 sum: 20 \n",
            " ----------\n"
          ]
        }
      ]
    },
    {
      "cell_type": "code",
      "source": [
        "def my_sum(**keyword_arguments):\n",
        "  print('Keyword arguments:')\n",
        "  for name, value in keyword_arguments.items():\n",
        "    print(name, '=', value)\n",
        "  total = 0\n",
        "  for value in keyword_arguments.values():\n",
        "    total += value\n",
        "  return total\n",
        "print(1, 2, 3, 'sum:', my_sum(a=1, b=2, c=3), '\\n')\n",
        "print(1, 2, 3, 15, 'sum:', my_sum(x=1, y=2, z=3, zz=15))"
      ],
      "metadata": {
        "colab": {
          "base_uri": "https://localhost:8080/"
        },
        "id": "ki20T-d6-l-3",
        "outputId": "162a5abf-6b82-4bd3-eaa7-38cdcdf76c8a"
      },
      "execution_count": 40,
      "outputs": [
        {
          "output_type": "stream",
          "name": "stdout",
          "text": [
            "Keyword arguments:\n",
            "a = 1\n",
            "b = 2\n",
            "c = 3\n",
            "1 2 3 sum: 6 \n",
            "\n",
            "Keyword arguments:\n",
            "x = 1\n",
            "y = 2\n",
            "z = 3\n",
            "zz = 15\n",
            "1 2 3 15 sum: 21\n"
          ]
        }
      ]
    },
    {
      "cell_type": "code",
      "source": [
        "def show_arguments (*args, **kwargs):\n",
        "  if args:\n",
        "    print('Positional arguments:')\n",
        "  else:\n",
        "    print('(no positional arguments)')\n",
        "  for i, positional_argument in enumerate (args, 1):\n",
        "    print(i, positional_argument)\n",
        "  if kwargs:\n",
        "      print('Keyword arguments:')\n",
        "      for name, value in kwargs.items(): print(name,',', value)\n",
        "  else:\n",
        "    print('(no keyword arguments)')\n",
        "  print('-'*20)\n",
        "show_arguments()\n",
        "show_arguments('a', 'b', 'hello', 10)\n",
        "show_arguments (name='Alex', times=5)\n",
        "show_arguments('a', 'b', 'hello', 10, name='Alex', times=5)"
      ],
      "metadata": {
        "colab": {
          "base_uri": "https://localhost:8080/"
        },
        "id": "NbBasXxD_XX7",
        "outputId": "1e316094-bbe9-4551-b187-e39783da4278"
      },
      "execution_count": 43,
      "outputs": [
        {
          "output_type": "stream",
          "name": "stdout",
          "text": [
            "(no positional arguments)\n",
            "(no keyword arguments)\n",
            "--------------------\n",
            "Positional arguments:\n",
            "1 a\n",
            "2 b\n",
            "3 hello\n",
            "4 10\n",
            "(no keyword arguments)\n",
            "--------------------\n",
            "(no positional arguments)\n",
            "Keyword arguments:\n",
            "name , Alex\n",
            "times , 5\n",
            "--------------------\n",
            "Positional arguments:\n",
            "1 a\n",
            "2 b\n",
            "3 hello\n",
            "4 10\n",
            "Keyword arguments:\n",
            "name , Alex\n",
            "times , 5\n",
            "--------------------\n"
          ]
        }
      ]
    },
    {
      "cell_type": "code",
      "source": [
        "def show_sum_of_powers(power, *numbers):\n",
        "    \"\"\"\n",
        "    Input: 1, 1, 2, 3, 10\n",
        "    Output printed:\n",
        "    1^2 + 2^2 + 3^2 + 10^2 =\n",
        "    1+4+9 + 100\n",
        "    114\n",
        "    \"\"\"\n",
        "    total = 0\n",
        "    numbers_to_be_powered = []\n",
        "    numbers_powered_as_string = []\n",
        "    for number in numbers:\n",
        "        number_powered = number ** power\n",
        "        numbers_to_be_powered.append(f'{number}^{power}')  # Fixed typo here\n",
        "        numbers_powered_as_string.append(str(number_powered))\n",
        "        total += number_powered\n",
        "\n",
        "    print(' + '.join(numbers_to_be_powered), '=', total)\n",
        "    print(' + '.join(numbers_powered_as_string), '=', total)\n",
        "    print(total, '\\n')\n",
        "\n",
        "show_sum_of_powers(2, 1, 2, 3, 10)  # Corrected function call\n",
        "show_sum_of_powers(3, 1, 2, 3, 10)  # Corrected function call\n"
      ],
      "metadata": {
        "colab": {
          "base_uri": "https://localhost:8080/"
        },
        "id": "Uc87PXcSAq_9",
        "outputId": "1aace13f-21dd-4854-fe98-dce598d8d664"
      },
      "execution_count": 47,
      "outputs": [
        {
          "output_type": "stream",
          "name": "stdout",
          "text": [
            "1^2 + 2^2 + 3^2 + 10^2 = 114\n",
            "1 + 4 + 9 + 100 = 114\n",
            "114 \n",
            "\n",
            "1^3 + 2^3 + 3^3 + 10^3 = 1036\n",
            "1 + 8 + 27 + 1000 = 1036\n",
            "1036 \n",
            "\n"
          ]
        }
      ]
    }
  ]
}