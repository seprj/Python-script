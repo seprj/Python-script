{
  "nbformat": 4,
  "nbformat_minor": 0,
  "metadata": {
    "colab": {
      "provenance": [],
      "authorship_tag": "ABX9TyO2SGxuliFR/WKmNCgEUtcz",
      "include_colab_link": true
    },
    "kernelspec": {
      "name": "python3",
      "display_name": "Python 3"
    },
    "language_info": {
      "name": "python"
    }
  },
  "cells": [
    {
      "cell_type": "markdown",
      "metadata": {
        "id": "view-in-github",
        "colab_type": "text"
      },
      "source": [
        "<a href=\"https://colab.research.google.com/github/seprj/Python-script/blob/main/exercise.ipynb\" target=\"_parent\"><img src=\"https://colab.research.google.com/assets/colab-badge.svg\" alt=\"Open In Colab\"/></a>"
      ]
    },
    {
      "cell_type": "code",
      "execution_count": null,
      "metadata": {
        "colab": {
          "base_uri": "https://localhost:8080/"
        },
        "id": "jXC6y1SW8tKO",
        "outputId": "b23143fb-e3e1-433d-e2af-b1db5297c9c4"
      },
      "outputs": [
        {
          "output_type": "stream",
          "name": "stdout",
          "text": [
            "net salary is 11000\n"
          ]
        }
      ],
      "source": [
        "def net_sal(basic,allowance, deduction):\n",
        "  net = basic + allowance - deduction\n",
        "  return net\n",
        "\n",
        "m = net_sal(7000, allowance = 8000, deduction=4000)\n",
        "print(\"net salary is\", m)"
      ]
    },
    {
      "cell_type": "code",
      "source": [
        "def days():\n",
        "  L = ['شنبه','یکشنبه','دوشنبه','سه‌شنبه','جهارشنبه','پنجشنبه','جمعه']\n",
        "  i = 0\n",
        "\n",
        "  while True:\n",
        "\n",
        "    y =L[i]\n",
        "    i = i+1 % 7\n",
        "\n",
        "    yield y\n",
        "\n",
        "m = days()\n",
        "print(next(m))\n",
        "print(next(m))\n",
        "print(next(m))\n",
        "print(next(m))\n",
        "print(next(m))\n",
        "print(next(m))\n",
        "print(next(m))\n",
        "\n",
        "\n"
      ],
      "metadata": {
        "colab": {
          "base_uri": "https://localhost:8080/"
        },
        "id": "nzkyaoW7FS5y",
        "outputId": "9e80d91e-ef55-4009-a8d8-4f987e586db6"
      },
      "execution_count": 2,
      "outputs": [
        {
          "output_type": "stream",
          "name": "stdout",
          "text": [
            "شنبه\n",
            "یکشنبه\n",
            "دوشنبه\n",
            "سه‌شنبه\n",
            "جهارشنبه\n",
            "پنجشنبه\n",
            "جمعه\n"
          ]
        }
      ]
    },
    {
      "cell_type": "code",
      "source": [
        "class cube:\n",
        "  def __init__ (self, l, b, h):\n",
        "    count =0\n",
        "   # print(id(self))\n",
        "    self.length = l\n",
        "    self.breadth = b\n",
        "    self.height =h\n",
        "\n",
        "  def getlength (self):\n",
        "      return self.length\n",
        "\n",
        "\n",
        "  def setlength (self,l):\n",
        "      self.length=l\n",
        "\n",
        "  def liderea (self):\n",
        "    return self.length * self.breadth\n",
        "\n",
        "  def total(self):\n",
        "    return self.length * self. breadth  + self.length * self.height + self.height * self.breadth\n",
        "\n",
        "  def volum(self) :\n",
        "    return   self.length * self. breadth * self.height\n",
        "\n",
        "\n",
        "s1 = cube (10,45,9)\n",
        "print(f'The length of this cube is : {s1.length}')\n",
        "\n",
        "print(s1.getlength())\n",
        "print(\"The erea of cube is : \" , s1.liderea())\n",
        "\n",
        "s2 = cube (19,28,30)\n",
        "print(f'the volum of cube is : {s2.volum()}')\n",
        "\n",
        "s2.setlength(18)\n",
        "print(f'The length of this cube is : {s2.length}')\n",
        "print(f'the volum of cube is : {s2.volum()}')"
      ],
      "metadata": {
        "colab": {
          "base_uri": "https://localhost:8080/"
        },
        "id": "eWBSOuPNAwek",
        "outputId": "e1a0c9de-523b-43bd-e91f-89edc7cabeac"
      },
      "execution_count": 53,
      "outputs": [
        {
          "output_type": "stream",
          "name": "stdout",
          "text": [
            "The length of this cube is : 10\n",
            "10\n",
            "The erea of cube is :  450\n",
            "the volum of cube is : 15960\n",
            "The length of this cube is : 18\n",
            "the volum of cube is : 15120\n"
          ]
        }
      ]
    },
    {
      "cell_type": "code",
      "source": [
        "class Rectangle :\n",
        "\n",
        "  def __init__(self,l ,b):\n",
        "    self.length = l\n",
        "    self.breadth = b\n",
        "\n",
        "  def area (self):\n",
        "    return    self.length * self.breadth\n",
        "\n",
        "  def primeter (self):\n",
        "    return 2 *  (self.length + self.breadth)\n",
        "\n",
        "class cube (Rectangle):\n",
        "    def __init__(self,l ,b, h):\n",
        "       self.height = h\n",
        "      # super().__init__ (l,b)\n",
        "       Rectangle.__init__(self,l ,b)\n",
        "\n",
        "    def volum (self) :\n",
        "      return   self.length * self. breadth * self.height\n",
        "\n",
        "\n",
        "x = cube (3,5,7)\n",
        "print(\"The volum of this cube is : \", x.volum())\n",
        "\n"
      ],
      "metadata": {
        "colab": {
          "base_uri": "https://localhost:8080/"
        },
        "id": "Tf9Qn2YHwAdl",
        "outputId": "faa7b0ee-0aa0-46ba-912c-fac9b8391d3e"
      },
      "execution_count": 82,
      "outputs": [
        {
          "output_type": "stream",
          "name": "stdout",
          "text": [
            "The volum of this cube is :  105\n"
          ]
        }
      ]
    },
    {
      "cell_type": "code",
      "source": [
        "class customer:\n",
        "  def __init__ (self, id, name)\n",
        "      self. customerid = id\n",
        "      self. customername = name\n",
        "      self."
      ],
      "metadata": {
        "id": "OaKS-Pj34Tc9"
      },
      "execution_count": null,
      "outputs": []
    },
    {
      "cell_type": "code",
      "source": [
        "from abc import ABC, abstractstaticmethod\n",
        "class Parent (ABC):\n",
        "\n",
        "\n",
        "  @abstractstaticmethod\n",
        "  def show (self):\n",
        "    pass\n",
        "\n",
        "  def display(self):\n",
        "    print('parent Display')\n",
        "\n",
        "\n",
        "\n",
        "class child(Parent):\n",
        "\n",
        "  def show (self):\n",
        "     print('show fram child')\n",
        "\n",
        "\n",
        "c= child()\n",
        "print(c.show ())\n",
        "print(c.display())\n"
      ],
      "metadata": {
        "colab": {
          "base_uri": "https://localhost:8080/"
        },
        "id": "2mMFicmhPdKl",
        "outputId": "7c8cbfd6-66f5-4687-e5e3-ba70247eb172"
      },
      "execution_count": 86,
      "outputs": [
        {
          "output_type": "stream",
          "name": "stdout",
          "text": [
            "show fram child\n",
            "None\n",
            "parent Display\n",
            "None\n"
          ]
        }
      ]
    },
    {
      "cell_type": "code",
      "source": [],
      "metadata": {
        "id": "MzGX6_lNTV8I"
      },
      "execution_count": null,
      "outputs": []
    }
  ]
}