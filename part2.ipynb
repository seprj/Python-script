{
  "nbformat": 4,
  "nbformat_minor": 0,
  "metadata": {
    "colab": {
      "provenance": [],
      "authorship_tag": "ABX9TyOwWu4L/36eTL3yAZ/sZO2S",
      "include_colab_link": true
    },
    "kernelspec": {
      "name": "python3",
      "display_name": "Python 3"
    },
    "language_info": {
      "name": "python"
    }
  },
  "cells": [
    {
      "cell_type": "markdown",
      "metadata": {
        "id": "view-in-github",
        "colab_type": "text"
      },
      "source": [
        "<a href=\"https://colab.research.google.com/github/seprj/Python-script/blob/main/part2.ipynb\" target=\"_parent\"><img src=\"https://colab.research.google.com/assets/colab-badge.svg\" alt=\"Open In Colab\"/></a>"
      ]
    },
    {
      "cell_type": "code",
      "execution_count": null,
      "metadata": {
        "colab": {
          "base_uri": "https://localhost:8080/"
        },
        "collapsed": true,
        "id": "0jG7QBcYvmQ6",
        "outputId": "92c0c283-eacb-471b-a7a1-858f2014ff7c"
      },
      "outputs": [
        {
          "output_type": "stream",
          "name": "stdout",
          "text": [
            "1 -3\n",
            "2 0\n",
            "3 3\n",
            "4 6\n",
            "5 9\n",
            "6 12\n",
            "7 15\n",
            "8 18\n",
            "9 21\n",
            "10 24\n",
            "11 27\n",
            "12 30\n",
            "13 33\n",
            "14 36\n"
          ]
        }
      ],
      "source": [
        "def answer(n):\n",
        "    return (n-2) * 3\n",
        "\n",
        "for i in range (1,15):\n",
        "    result = answer(i)\n",
        "    print(i, result)\n"
      ]
    },
    {
      "cell_type": "code",
      "source": [
        "def plus_five(n):\n",
        "    return n + 5\n",
        "\n",
        "for number in range (1,20):\n",
        "    print(number, plus_five(number))"
      ],
      "metadata": {
        "colab": {
          "base_uri": "https://localhost:8080/"
        },
        "id": "HLYnNpP-lndF",
        "outputId": "f6358884-2364-4e7d-fc75-c48a874c3728"
      },
      "execution_count": 34,
      "outputs": [
        {
          "output_type": "stream",
          "name": "stdout",
          "text": [
            "1 6\n",
            "2 7\n",
            "3 8\n",
            "4 9\n",
            "5 10\n",
            "6 11\n",
            "7 12\n",
            "8 13\n",
            "9 14\n",
            "10 15\n",
            "11 16\n",
            "12 17\n",
            "13 18\n",
            "14 19\n",
            "15 20\n",
            "16 21\n",
            "17 22\n",
            "18 23\n",
            "19 24\n"
          ]
        }
      ]
    },
    {
      "cell_type": "code",
      "source": [
        "def say_greeting (greeting, name):\n",
        "  print(greeting, name)\n",
        "\n",
        "def friendly():\n",
        "  say_greeting ('Hello Dear', 'Sep')\n",
        "  say_greeting ('chio', 'Sami')\n",
        "\n",
        "friendly()\n",
        "\n"
      ],
      "metadata": {
        "colab": {
          "base_uri": "https://localhost:8080/"
        },
        "id": "j6YyrVzvyLKg",
        "outputId": "bdf78090-3a3a-469b-b0fa-8ad7f5ab1129"
      },
      "execution_count": null,
      "outputs": [
        {
          "output_type": "stream",
          "name": "stdout",
          "text": [
            "Hello Dear Sep\n",
            "chio Sami\n"
          ]
        }
      ]
    },
    {
      "cell_type": "code",
      "source": [
        "def say_greeting (greeting, name, times=1):\n",
        "  for _ in range(times):\n",
        "    print(greeting, name)\n",
        "\n",
        "def very_friendly():\n",
        "  say_greeting ('Hello Dear', 'Sep',2)\n",
        "\n",
        "def friendly():\n",
        "  say_greeting ('Hello Dear', 'Sana')\n",
        "  say_greeting ('chio', 'Sami')\n",
        "\n",
        "friendly()\n",
        "very_friendly()"
      ],
      "metadata": {
        "colab": {
          "base_uri": "https://localhost:8080/"
        },
        "id": "ug_yXyb2zuxN",
        "outputId": "3367ca13-e7af-467b-c140-0040c3c4f556"
      },
      "execution_count": null,
      "outputs": [
        {
          "output_type": "stream",
          "name": "stdout",
          "text": [
            "Hello Dear Sana\n",
            "chio Sami\n",
            "Hello Dear Sep\n",
            "Hello Dear Sep\n"
          ]
        }
      ]
    }
  ]
}