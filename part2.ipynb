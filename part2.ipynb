{
  "nbformat": 4,
  "nbformat_minor": 0,
  "metadata": {
    "colab": {
      "provenance": [],
      "authorship_tag": "ABX9TyPgiWPURnWDAfiLRQy8FbzY",
      "include_colab_link": true
    },
    "kernelspec": {
      "name": "python3",
      "display_name": "Python 3"
    },
    "language_info": {
      "name": "python"
    }
  },
  "cells": [
    {
      "cell_type": "markdown",
      "metadata": {
        "id": "view-in-github",
        "colab_type": "text"
      },
      "source": [
        "<a href=\"https://colab.research.google.com/github/seprj/Python-script/blob/main/part2.ipynb\" target=\"_parent\"><img src=\"https://colab.research.google.com/assets/colab-badge.svg\" alt=\"Open In Colab\"/></a>"
      ]
    },
    {
      "cell_type": "code",
      "execution_count": 10,
      "metadata": {
        "colab": {
          "base_uri": "https://localhost:8080/"
        },
        "id": "0jG7QBcYvmQ6",
        "outputId": "92c0c283-eacb-471b-a7a1-858f2014ff7c"
      },
      "outputs": [
        {
          "output_type": "stream",
          "name": "stdout",
          "text": [
            "1 -3\n",
            "2 0\n",
            "3 3\n",
            "4 6\n",
            "5 9\n",
            "6 12\n",
            "7 15\n",
            "8 18\n",
            "9 21\n",
            "10 24\n",
            "11 27\n",
            "12 30\n",
            "13 33\n",
            "14 36\n"
          ]
        }
      ],
      "source": [
        "def answer(n):\n",
        "    return (n-2) * 3\n",
        "\n",
        "for i in range (1,15):\n",
        "    result = answer(i)\n",
        "    print(i, result)\n"
      ]
    }
  ]
}